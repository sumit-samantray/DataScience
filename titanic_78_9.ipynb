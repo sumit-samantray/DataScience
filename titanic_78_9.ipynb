{
  "nbformat": 4,
  "nbformat_minor": 0,
  "metadata": {
    "colab": {
      "name": "titanic_78.9.ipynb",
      "provenance": [],
      "collapsed_sections": [],
      "toc_visible": true
    },
    "kernelspec": {
      "name": "python3",
      "display_name": "Python 3"
    }
  },
  "cells": [
    {
      "cell_type": "markdown",
      "metadata": {
        "id": "vNe4vmOUQF0K"
      },
      "source": [
        "# IMPORTING LIBRARIES"
      ]
    },
    {
      "cell_type": "code",
      "metadata": {
        "id": "8XV-8Z-NORm2"
      },
      "source": [
        "import numpy as np\n",
        "import pandas as pd\n",
        "import matplotlib.pyplot as plt\n",
        "import seaborn as sns\n",
        "sns.set()"
      ],
      "execution_count": null,
      "outputs": []
    },
    {
      "cell_type": "code",
      "metadata": {
        "id": "kjnDjj4yeWsG"
      },
      "source": [
        "import tensorflow as tf\n"
      ],
      "execution_count": null,
      "outputs": []
    },
    {
      "cell_type": "markdown",
      "metadata": {
        "id": "iKCoJXwVQMuw"
      },
      "source": [
        "# IMPORTING DATASET"
      ]
    },
    {
      "cell_type": "code",
      "metadata": {
        "id": "WDERh8ttObE_"
      },
      "source": [
        "dataset = pd.read_csv('train.csv')"
      ],
      "execution_count": null,
      "outputs": []
    },
    {
      "cell_type": "code",
      "metadata": {
        "id": "eaZ7Ed3EF6wG"
      },
      "source": [
        "dataset.dtypes"
      ],
      "execution_count": null,
      "outputs": []
    },
    {
      "cell_type": "code",
      "metadata": {
        "id": "DvvacomKOli7"
      },
      "source": [
        "dataset.head()"
      ],
      "execution_count": null,
      "outputs": []
    },
    {
      "cell_type": "code",
      "metadata": {
        "id": "MvDTEru8OowB"
      },
      "source": [
        "dataset.columns"
      ],
      "execution_count": null,
      "outputs": []
    },
    {
      "cell_type": "markdown",
      "metadata": {
        "id": "YvC-rycHQXrj"
      },
      "source": [
        "# HANDLING MISSING VALUES "
      ]
    },
    {
      "cell_type": "code",
      "metadata": {
        "id": "BF8gROGJTGaL"
      },
      "source": [
        "title_dataset = dataset.copy()\n",
        "titles = []\n",
        "import re\n",
        "name = []\n",
        "for i in range(dataset.shape[0]):\n",
        "  name.append(dataset['Name'].values[i])\n",
        "  name[i] = re.sub('[^a-zA-Z]', ' ', name[i])\n",
        "  titles.append(name[i].split(' ')[2])\n",
        "title_dataset['title'] = titles"
      ],
      "execution_count": null,
      "outputs": []
    },
    {
      "cell_type": "code",
      "metadata": {
        "id": "sFmdngDGYv1a"
      },
      "source": [
        "avg = title_dataset.groupby(by = 'title', axis = 0).mean()\n",
        "avg"
      ],
      "execution_count": null,
      "outputs": []
    },
    {
      "cell_type": "code",
      "metadata": {
        "id": "51i-v1fmbiqo"
      },
      "source": [
        "avg_age = avg.loc[:, ['Age']]\n",
        "avg_age"
      ],
      "execution_count": null,
      "outputs": []
    },
    {
      "cell_type": "code",
      "metadata": {
        "id": "Zk7esjAZcDss"
      },
      "source": [
        "avg_age.index"
      ],
      "execution_count": null,
      "outputs": []
    },
    {
      "cell_type": "code",
      "metadata": {
        "id": "QF4n5-u5cI2p"
      },
      "source": [
        "title_list = ['', 'Capt', 'Castellana', 'Col', 'Don', 'Dr', 'Jonkheer', 'Major',\n",
        "       'Manent', 'Master', 'Miss', 'Mlle', 'Mme', 'More', 'Mr', 'Mrs', 'Ms',\n",
        "       'Rev', 'hoef', 'the']"
      ],
      "execution_count": null,
      "outputs": []
    },
    {
      "cell_type": "code",
      "metadata": {
        "id": "LpUvADULa8zD"
      },
      "source": [
        "for i in range(title_dataset.shape[0]):\n",
        "  if (pd.isnull(title_dataset['Age']).values[i]):\n",
        "    for title in title_list:\n",
        "      if (title_dataset['title'].values[i] == title):\n",
        "        print(avg_age.loc[title, ['Age']].values)\n",
        "        title_dataset['Age'].values[i] = avg_age.loc[title, ['Age']].values\n",
        "\n"
      ],
      "execution_count": null,
      "outputs": []
    },
    {
      "cell_type": "code",
      "metadata": {
        "id": "Gj6SA0AURh_c"
      },
      "source": [
        "no_miss_data = title_dataset.loc[(pd.isnull(title_dataset['Embarked'])==0) & (pd.isnull(title_dataset['Age'])==0), :]"
      ],
      "execution_count": null,
      "outputs": []
    },
    {
      "cell_type": "markdown",
      "metadata": {
        "id": "3mlkqs11QSqh"
      },
      "source": [
        "# DEPENDENT AND INDEPENDENT VARIABLE"
      ]
    },
    {
      "cell_type": "code",
      "metadata": {
        "id": "QPJPSrM1OskI"
      },
      "source": [
        "x = no_miss_data.loc[:, ['Pclass', 'Sex', 'Age', 'SibSp', 'Parch', 'Fare', 'Embarked']]\n",
        "y = no_miss_data.loc[:, ['Survived']]"
      ],
      "execution_count": null,
      "outputs": []
    },
    {
      "cell_type": "markdown",
      "metadata": {
        "id": "lUiKYU-UXBQW"
      },
      "source": [
        "# FEATURE SCALING"
      ]
    },
    {
      "cell_type": "code",
      "metadata": {
        "id": "ogu1EX1PWsmb"
      },
      "source": [
        "from sklearn.preprocessing import StandardScaler\n",
        "scaler = StandardScaler()\n",
        "x_scaled = x.copy()\n",
        "x_scaled.loc[:, ['Pclass', 'Age', 'SibSp', 'Parch', 'Fare']] = scaler.fit_transform(x.loc[:, ['Pclass', 'Age', 'SibSp', 'Parch', 'Fare']])"
      ],
      "execution_count": null,
      "outputs": []
    },
    {
      "cell_type": "code",
      "metadata": {
        "id": "dY4CQIZLYaw-"
      },
      "source": [
        "print(x_scaled)"
      ],
      "execution_count": null,
      "outputs": []
    },
    {
      "cell_type": "markdown",
      "metadata": {
        "id": "yb8JS3XKYm5Y"
      },
      "source": [
        "ONE HOT ENCODING AND LABEL ENCODING"
      ]
    },
    {
      "cell_type": "code",
      "metadata": {
        "id": "3GPeMFTBZdcm"
      },
      "source": [
        "from sklearn.compose import ColumnTransformer\n",
        "from sklearn.preprocessing import OneHotEncoder\n",
        "ct = ColumnTransformer(transformers = [('encoder', OneHotEncoder(), [1, 6])], remainder = 'passthrough')\n",
        "x_clean = ct.fit_transform(x_scaled)"
      ],
      "execution_count": null,
      "outputs": []
    },
    {
      "cell_type": "code",
      "metadata": {
        "id": "EgHQKGObxQ4C"
      },
      "source": [
        "from sklearn.model_selection import train_test_split\n",
        "x_train, x_validation, y_train, y_validation = train_test_split(x_clean, y, test_size = 0.15, random_state = 42)"
      ],
      "execution_count": null,
      "outputs": []
    },
    {
      "cell_type": "markdown",
      "metadata": {
        "id": "ZoxVUBxicwRd"
      },
      "source": [
        "# LAYING OUT THE MODEL"
      ]
    },
    {
      "cell_type": "code",
      "metadata": {
        "id": "KySfcSJwbeB2"
      },
      "source": [
        "hidden_layer_size = 100\n",
        "output_size = 1\n",
        "model = tf.keras.Sequential([\n",
        "                              tf.keras.layers.Dense(hidden_layer_size, activation = 'relu'),\n",
        "                              tf.keras.layers.Dense(hidden_layer_size, activation = 'relu'),\n",
        "                              tf.keras.layers.Dense(hidden_layer_size, activation = 'relu'),\n",
        "                              tf.keras.layers.Dense(output_size, activation = 'sigmoid')\n",
        "                            ])"
      ],
      "execution_count": null,
      "outputs": []
    },
    {
      "cell_type": "markdown",
      "metadata": {
        "id": "akGcM36eeeGc"
      },
      "source": [
        "COMPILING MODEL"
      ]
    },
    {
      "cell_type": "code",
      "metadata": {
        "id": "gDLwoLR5eb7z"
      },
      "source": [
        "model.compile(optimizer = 'adam', loss = 'binary_crossentropy', metrics = ['accuracy'])"
      ],
      "execution_count": null,
      "outputs": []
    },
    {
      "cell_type": "markdown",
      "metadata": {
        "id": "mRZ5y3i2e9fm"
      },
      "source": [
        "# TRAINING THE MODEL"
      ]
    },
    {
      "cell_type": "code",
      "metadata": {
        "id": "8MP_sTRAfEzc"
      },
      "source": [
        "model.fit(x_train, y_train, validation_data = (x_validation, y_validation), batch_size = 32, epochs = 5, verbose = 2)"
      ],
      "execution_count": null,
      "outputs": []
    },
    {
      "cell_type": "markdown",
      "metadata": {
        "id": "uMg92sXhnKh3"
      },
      "source": [
        "# TEST DATA ANALYSIS"
      ]
    },
    {
      "cell_type": "code",
      "metadata": {
        "id": "mCnmyWbpe3mE"
      },
      "source": [
        "test = pd.read_csv('test.csv')"
      ],
      "execution_count": null,
      "outputs": []
    },
    {
      "cell_type": "code",
      "metadata": {
        "id": "ie3ueCuwncNc"
      },
      "source": [
        "test"
      ],
      "execution_count": null,
      "outputs": []
    },
    {
      "cell_type": "code",
      "metadata": {
        "id": "5m78cpu_n5SQ"
      },
      "source": [
        "pd.isnull(test).sum()"
      ],
      "execution_count": null,
      "outputs": []
    },
    {
      "cell_type": "code",
      "metadata": {
        "id": "VSAKkTMpo7VD"
      },
      "source": [
        "test_title = test.copy()\n",
        "titles_in_test = []\n",
        "import re\n",
        "name_test = []\n",
        "for i in range(test.shape[0]):\n",
        "  name_test.append(test['Name'].values[i])\n",
        "  name_test[i] = re.sub('[^a-zA-Z]', ' ', name_test[i])\n",
        "  titles_in_test.append(name_test[i].split(' ')[2])\n",
        "test_title['title'] = titles_in_test"
      ],
      "execution_count": null,
      "outputs": []
    },
    {
      "cell_type": "code",
      "metadata": {
        "id": "1ZGAFYiqoA7f"
      },
      "source": [
        "for i in range(test_title.shape[0]):\n",
        "  if (pd.isnull(test_title['Age']).values[i]):\n",
        "    for title in title_list:\n",
        "      if (test_title['title'].values[i] == title):\n",
        "        print(avg_age.loc[title, ['Age']].values)\n",
        "        test_title['Age'].values[i] = avg_age.loc[title, ['Age']].values\n",
        "\n"
      ],
      "execution_count": null,
      "outputs": []
    },
    {
      "cell_type": "code",
      "metadata": {
        "id": "jfyd6sa2p9Tv"
      },
      "source": [
        "pd.isnull(test_title).sum()"
      ],
      "execution_count": null,
      "outputs": []
    },
    {
      "cell_type": "code",
      "metadata": {
        "id": "3O2In1jWq4NL"
      },
      "source": [
        "fare_3 = test_title.loc[(test_title['Pclass'] == 3) & (test_title['title'] == 'Mr'), ['Fare', 'title']]\n"
      ],
      "execution_count": null,
      "outputs": []
    },
    {
      "cell_type": "code",
      "metadata": {
        "id": "0KI0eagLsdQK"
      },
      "source": [
        "sns.distplot(fare_3.loc[:, ['Fare']])"
      ],
      "execution_count": null,
      "outputs": []
    },
    {
      "cell_type": "code",
      "metadata": {
        "id": "daJOLi3BtnVd"
      },
      "source": [
        "missing_fare = fare_3['Fare'].mode().values\n"
      ],
      "execution_count": null,
      "outputs": []
    },
    {
      "cell_type": "code",
      "metadata": {
        "id": "1fSPZ_ifxvfc"
      },
      "source": [
        "missing_fare"
      ],
      "execution_count": null,
      "outputs": []
    },
    {
      "cell_type": "code",
      "metadata": {
        "id": "fTA0ZUpZwH9Y"
      },
      "source": [
        "for i in range(test_title.shape[0]):\n",
        "  if (pd.isnull(test_title['Fare']).values[i]):\n",
        "    test_title['Fare'].values[i] = missing_fare[0]\n"
      ],
      "execution_count": null,
      "outputs": []
    },
    {
      "cell_type": "markdown",
      "metadata": {
        "id": "Bg_DmLaLy6Nr"
      },
      "source": [
        "TEST FEATURES "
      ]
    },
    {
      "cell_type": "code",
      "metadata": {
        "id": "DFUo8bhgy5bB"
      },
      "source": [
        "x_test = test_title.loc[:, ['Pclass', 'Sex', 'Age', 'SibSp', 'Parch', 'Fare', 'Embarked']]"
      ],
      "execution_count": null,
      "outputs": []
    },
    {
      "cell_type": "markdown",
      "metadata": {
        "id": "ygU6frkqz9ks"
      },
      "source": [
        "# TEST FEATURE SCALING"
      ]
    },
    {
      "cell_type": "code",
      "metadata": {
        "id": "z0kyxPpOzLzF"
      },
      "source": [
        "test_scaler = StandardScaler()\n",
        "x_test_scaled = x_test.copy()\n",
        "x_test_scaled.loc[:, ['Pclass', 'Age', 'SibSp', 'Parch', 'Fare']] = test_scaler.fit_transform(x_test.loc[:, ['Pclass', 'Age', 'SibSp', 'Parch', 'Fare']])"
      ],
      "execution_count": null,
      "outputs": []
    },
    {
      "cell_type": "markdown",
      "metadata": {
        "id": "CNO7MeAc0CA3"
      },
      "source": [
        "# TEST FEATURE ENCODING"
      ]
    },
    {
      "cell_type": "code",
      "metadata": {
        "id": "AAKf90w70GhV"
      },
      "source": [
        "x_test_cleaned = ct.transform(x_test_scaled)"
      ],
      "execution_count": null,
      "outputs": []
    },
    {
      "cell_type": "markdown",
      "metadata": {
        "id": "rH17EK-30oqo"
      },
      "source": [
        "# predicting outcomes"
      ]
    },
    {
      "cell_type": "code",
      "metadata": {
        "id": "5JjJ2-MB0oGc"
      },
      "source": [
        "pred_survive = (model.predict(x_test_cleaned) >= 0.5).astype(int)"
      ],
      "execution_count": null,
      "outputs": []
    },
    {
      "cell_type": "code",
      "metadata": {
        "id": "DTWrm3yI1PeQ"
      },
      "source": [
        "pred_survive"
      ],
      "execution_count": null,
      "outputs": []
    },
    {
      "cell_type": "markdown",
      "metadata": {
        "id": "aoNFhdDX15Zd"
      },
      "source": [
        "final formatting"
      ]
    },
    {
      "cell_type": "code",
      "metadata": {
        "id": "M-sWuaZd17sm"
      },
      "source": [
        "pass_id = np.arange(892, 1310)\n",
        "submission = pd.DataFrame(np.concatenate((pass_id.reshape(-1,1), pred_survive.reshape(-1,1)), 1), columns = ['PassengerId', 'Survived'])\n"
      ],
      "execution_count": null,
      "outputs": []
    },
    {
      "cell_type": "code",
      "metadata": {
        "id": "So9AQPln4kUI"
      },
      "source": [
        "submission"
      ],
      "execution_count": null,
      "outputs": []
    },
    {
      "cell_type": "markdown",
      "metadata": {
        "id": "epzzXswr4tFN"
      },
      "source": [
        "converting to csv file"
      ]
    },
    {
      "cell_type": "code",
      "metadata": {
        "id": "TQ94Ake-4vdu"
      },
      "source": [
        "submission.to_csv('titanic_sub.csv', index = False, header = True)"
      ],
      "execution_count": null,
      "outputs": []
    }
  ]
}