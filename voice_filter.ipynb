{
  "nbformat": 4,
  "nbformat_minor": 0,
  "metadata": {
    "colab": {
      "name": "voice_filter.ipynb",
      "provenance": [],
      "collapsed_sections": []
    },
    "kernelspec": {
      "name": "python3",
      "display_name": "Python 3"
    }
  },
  "cells": [
    {
      "cell_type": "code",
      "metadata": {
        "id": "iDFKbTLi-X-I",
        "colab": {
          "base_uri": "https://localhost:8080/",
          "height": 110
        },
        "outputId": "b88f59a6-159f-4767-8ad8-4d25066b8e9e"
      },
      "source": [
        "!pip install pydub"
      ],
      "execution_count": null,
      "outputs": [
        {
          "output_type": "stream",
          "text": [
            "Collecting pydub\n",
            "  Downloading https://files.pythonhosted.org/packages/7b/d1/fbfa79371a8cd9bb15c2e3c480d7e6e340ed5cc55005174e16f48418333a/pydub-0.24.1-py2.py3-none-any.whl\n",
            "Installing collected packages: pydub\n",
            "Successfully installed pydub-0.24.1\n"
          ],
          "name": "stdout"
        }
      ]
    },
    {
      "cell_type": "code",
      "metadata": {
        "id": "8YUCpQJZ-gLb"
      },
      "source": [
        "import numpy as np\n",
        "import pandas as pd\n",
        "import pydub\n",
        "from pydub import AudioSegment"
      ],
      "execution_count": null,
      "outputs": []
    },
    {
      "cell_type": "code",
      "metadata": {
        "id": "KBVCwP8C-tea"
      },
      "source": [
        "def voice(f1, f2):\n",
        "  audio = AudioSegment.from_file(f1)\n",
        "  arr_audio = np.array(audio.get_array_of_samples())\n",
        "  arr_audio = arr_audio.reshape((-1,2))\n",
        "  sound_1 = arr_audio[:, 0]\n",
        "  sound_1 = sound_1.reshape(-1,1)\n",
        "  sound_1 = np.concatenate((sound_1, sound_1), axis = 1)\n",
        "  sound_2 = arr_audio[:, 1]\n",
        "  sound_2 = sound_2.reshape(-1,1)\n",
        "  sound_2 = np.concatenate((sound_2, sound_2), axis = 1)\n",
        "  song = pydub.AudioSegment(sound_2.tobytes(), frame_rate = audio.frame_rate, sample_width = 2, channels = 2)\n",
        "  song.export(f2, format = \"mp3\", bitrate = \"320k\")"
      ],
      "execution_count": null,
      "outputs": []
    },
    {
      "cell_type": "code",
      "metadata": {
        "id": "ASLppdWW_AIx"
      },
      "source": [
        "for i in range(5, 19):\n",
        "  voice(str(i) + '.m4a', 'sumit_' + str(i) + '.mp3')"
      ],
      "execution_count": null,
      "outputs": []
    }
  ]
}